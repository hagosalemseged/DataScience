{
 "cells": [
  {
   "cell_type": "markdown",
   "id": "5e65ba2d-6bf0-42f6-904e-6b0e0ff4839c",
   "metadata": {},
   "source": [
    "# Data Science Tools and Ecosystem"
   ]
  },
  {
   "cell_type": "markdown",
   "id": "28dbc519-4f3a-46b5-aa6a-e16b8ce8789e",
   "metadata": {},
   "source": [
    "*In this notebook, Data Science tools and Ecosystem are summarized*"
   ]
  },
  {
   "cell_type": "markdown",
   "id": "bbce5cbb-e706-4923-bae3-fa48d6fb7e30",
   "metadata": {},
   "source": [
    "*Some of Popular Languages that data scientists use are:*\n",
    "1. Python\n",
    "2. R\n",
    "3. Javascript\n",
    "4. Java"
   ]
  },
  {
   "cell_type": "markdown",
   "id": "da283fa8-9dbf-4e39-8b41-e99169616ffd",
   "metadata": {
    "tags": []
   },
   "source": [
    "*Some of the commonly used libraries used by data scientists includes:*\n",
    "\n",
    "- PyTorch\n",
    "- Pandas\n",
    "- Numpy\n",
    "- Matplotlib\n",
    "- Seaborn\n",
    "- Scikit learn\n",
    "- Keras\n",
    "- Tensorflow"
   ]
  },
  {
   "cell_type": "markdown",
   "id": "6070eecc-2ee0-4a0f-b214-b0654eaa830a",
   "metadata": {
    "tags": []
   },
   "source": [
    "| Data Science Tools |\n",
    "| :----------------: |\n",
    "| Apache AirFlow |\n",
    "| Apache Kafka |\n",
    "| Apache Spark |\n",
    "| Node Red |\n",
    "| Apache CouchDB |"
   ]
  },
  {
   "cell_type": "markdown",
   "id": "413ccf17-2d8f-48b8-a6a6-770ae59540a7",
   "metadata": {},
   "source": [
    "### Below are a few examples of evaluting arthimetic expressions in python"
   ]
  },
  {
   "cell_type": "code",
   "execution_count": 18,
   "id": "eaab82a8-2871-4444-92f9-e331324b28f2",
   "metadata": {
    "tags": []
   },
   "outputs": [
    {
     "data": {
      "text/plain": [
       "17"
      ]
     },
     "execution_count": 18,
     "metadata": {},
     "output_type": "execute_result"
    }
   ],
   "source": [
    "# This a simple arthimetic expression to multiply then add integer\n",
    "(3*4)+5"
   ]
  },
  {
   "cell_type": "code",
   "execution_count": 19,
   "id": "3b658e7e-e332-47ce-b567-d90c8234bb9a",
   "metadata": {
    "tags": []
   },
   "outputs": [
    {
     "name": "stdout",
     "output_type": "stream",
     "text": [
      "3 hours and 20 minutes\n"
     ]
    }
   ],
   "source": [
    "# this will convert 200 minutes to hours by dividing by 60\n",
    "totalMinutes = 200\n",
    "hours = totalMinutes//60\n",
    "minutes = totalMinutes%60\n",
    "print(\"{} hours and {} minutes\".format(hours,minutes))\n"
   ]
  },
  {
   "cell_type": "markdown",
   "id": "64daffc5-978e-4417-9dc2-a7b8b03887f2",
   "metadata": {},
   "source": [
    "**Objectives:**\n",
    "- Commonly used libraries by a data scientists\n",
    "- Data Science Tools\n",
    "- Evalution Arthimetic Expression using python\n",
    "- Popular lagnuages used in data science"
   ]
  },
  {
   "cell_type": "markdown",
   "id": "3dc46c6d-e90c-49df-a570-d26668c2fc1b",
   "metadata": {},
   "source": [
    "## Author\n",
    "Hagos Alemseged Yifter"
   ]
  },
  {
   "cell_type": "code",
   "execution_count": null,
   "id": "c877f20c-5714-4bbc-b6e4-5ebe18f58d2d",
   "metadata": {},
   "outputs": [],
   "source": []
  }
 ],
 "metadata": {
  "kernelspec": {
   "display_name": "Python",
   "language": "python",
   "name": "conda-env-python-py"
  },
  "language_info": {
   "codemirror_mode": {
    "name": "ipython",
    "version": 3
   },
   "file_extension": ".py",
   "mimetype": "text/x-python",
   "name": "python",
   "nbconvert_exporter": "python",
   "pygments_lexer": "ipython3",
   "version": "3.7.12"
  }
 },
 "nbformat": 4,
 "nbformat_minor": 5
}
